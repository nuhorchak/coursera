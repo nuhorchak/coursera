{
    "nbformat_minor": 1, 
    "cells": [
        {
            "source": "This is the last assignment for the Coursera course \"Advanced Machine Learning and Signal Processing\"\n\nJust execute all cells one after the other and you are done - just note that in the last one you should update your email address (the one you've used for coursera) and obtain a submission token, you get this from the programming assignment directly on coursera.\n\nPlease fill in the sections labelled with \"###YOUR_CODE_GOES_HERE###\"\n\nThe purpose of this assignment is to learn how feature engineering boosts model performance. You will apply Discrete Fourier Transformation on the accelerometer sensor time series and therefore transforming the dataset from the time to the frequency domain. \n\nAfter that, you\u2019ll use a classification algorithm of your choice to create a model and submit the new predictions to the grader. Done.\n\nPlease make sure you run this notebook from an Apache Spark 2.3 notebook.\n\nSo the first thing we need to ensure is that we are on the latest version of SystemML, which is 1.3.0 (as of 20th March'19) Please use the code block below to check if you are already on 1.3.0 or higher. 1.3 contains a necessary fix, that's we are running against the SNAPSHOT\n", 
            "cell_type": "markdown", 
            "metadata": {}
        }, 
        {
            "execution_count": 1, 
            "cell_type": "code", 
            "metadata": {}, 
            "outputs": [
                {
                    "output_type": "stream", 
                    "name": "stdout", 
                    "text": "Waiting for a Spark session to start...\nSpark Initialization Done! ApplicationId = app-20190425190700-0001\nKERNEL_ID = a4a1225e-b6f3-40c4-a373-6e6969c4a8da\n"
                }, 
                {
                    "execution_count": 1, 
                    "metadata": {}, 
                    "data": {
                        "text/plain": "'1.3.0-SNAPSHOT'"
                    }, 
                    "output_type": "execute_result"
                }
            ], 
            "source": "from systemml import MLContext\nml = MLContext(spark)\nml.version()"
        }, 
        {
            "source": "\n\nIf you are blow version 1.3.0, or you got the error message \"No module named 'systemml'\"  please execute the next two code blocks and then\n\n# PLEASE RESTART THE KERNEL !!!\n\nOtherwise your changes won't take effect, just double-check every time you run this notebook if you are on SystemML 1.3\n", 
            "cell_type": "markdown", 
            "metadata": {}
        }, 
        {
            "execution_count": null, 
            "cell_type": "code", 
            "metadata": {}, 
            "outputs": [], 
            "source": "!pip install https://github.com/IBM/coursera/blob/master/systemml-1.3.0-SNAPSHOT-python.tar.gz?raw=true"
        }, 
        {
            "source": "\n\nNow we need to create two sym links that the newest version is picket up - this is a workaround and will be removed as soon as SystemML 1.3 will be pre-installed on Watson Studio once officially released.\n", 
            "cell_type": "markdown", 
            "metadata": {}
        }, 
        {
            "execution_count": null, 
            "cell_type": "code", 
            "metadata": {}, 
            "outputs": [], 
            "source": "!ln -s -f ~/user-libs/python3/systemml/systemml-java/systemml-1.3.0-SNAPSHOT-extra.jar ~/user-libs/spark2/systemml-1.3.0-SNAPSHOT-extra.jar\n!ln -s -f ~/user-libs/python3/systemml/systemml-java/systemml-1.3.0-SNAPSHOT.jar ~/user-libs/spark2/systemml-1.3.0-SNAPSHOT.jar"
        }, 
        {
            "source": "# Please now restart the kernel and start from the beginning to make sure you've installed SystemML 1.3\n\nLet's download the test data since it's so small we don't use COS (IBM Cloud Object Store) here", 
            "cell_type": "markdown", 
            "metadata": {}
        }, 
        {
            "execution_count": 2, 
            "cell_type": "code", 
            "metadata": {}, 
            "outputs": [
                {
                    "output_type": "stream", 
                    "name": "stdout", 
                    "text": "--2019-04-25 19:21:52--  https://github.com/IBM/coursera/blob/master/coursera_ml/shake.parquet?raw=true\nResolving github.com (github.com)... 192.30.253.112, 192.30.253.113\nConnecting to github.com (github.com)|192.30.253.112|:443... connected.\nHTTP request sent, awaiting response... 302 Found\nLocation: https://github.com/IBM/coursera/raw/master/coursera_ml/shake.parquet [following]\n--2019-04-25 19:21:52--  https://github.com/IBM/coursera/raw/master/coursera_ml/shake.parquet\nReusing existing connection to github.com:443.\nHTTP request sent, awaiting response... 302 Found\nLocation: https://raw.githubusercontent.com/IBM/coursera/master/coursera_ml/shake.parquet [following]\n--2019-04-25 19:21:53--  https://raw.githubusercontent.com/IBM/coursera/master/coursera_ml/shake.parquet\nResolving raw.githubusercontent.com (raw.githubusercontent.com)... 151.101.48.133\nConnecting to raw.githubusercontent.com (raw.githubusercontent.com)|151.101.48.133|:443... connected.\nHTTP request sent, awaiting response... 200 OK\nLength: 74727 (73K) [application/octet-stream]\nSaving to: 'shake.parquet?raw=true'\n\nshake.parquet?raw=t 100%[===================>]  72.98K  --.-KB/s    in 0.002s  \n\n2019-04-25 19:21:53 (29.7 MB/s) - 'shake.parquet?raw=true' saved [74727/74727]\n\n"
                }
            ], 
            "source": "!wget https://github.com/IBM/coursera/blob/master/coursera_ml/shake.parquet?raw=true\n!mv shake.parquet?raw=true shake.parquet"
        }, 
        {
            "source": "Now it\u2019s time to read the sensor data and create a temporary query table.", 
            "cell_type": "markdown", 
            "metadata": {}
        }, 
        {
            "execution_count": 3, 
            "cell_type": "code", 
            "metadata": {}, 
            "outputs": [], 
            "source": "df=spark.read.parquet('shake.parquet')"
        }, 
        {
            "execution_count": 4, 
            "cell_type": "code", 
            "metadata": {}, 
            "outputs": [
                {
                    "output_type": "stream", 
                    "name": "stdout", 
                    "text": "+-----+---------+-----+-----+-----+\n|CLASS| SENSORID|    X|    Y|    Z|\n+-----+---------+-----+-----+-----+\n|    2| qqqqqqqq| 0.12| 0.12| 0.12|\n|    2|aUniqueID| 0.03| 0.03| 0.03|\n|    2| qqqqqqqq|-3.84|-3.84|-3.84|\n|    2| 12345678| -0.1| -0.1| -0.1|\n|    2| 12345678|-0.15|-0.15|-0.15|\n|    2| 12345678| 0.47| 0.47| 0.47|\n|    2| 12345678|-0.06|-0.06|-0.06|\n|    2| 12345678|-0.09|-0.09|-0.09|\n|    2| 12345678| 0.21| 0.21| 0.21|\n|    2| 12345678|-0.08|-0.08|-0.08|\n|    2| 12345678| 0.44| 0.44| 0.44|\n|    2|    gholi| 0.76| 0.76| 0.76|\n|    2|    gholi| 1.62| 1.62| 1.62|\n|    2|    gholi| 5.81| 5.81| 5.81|\n|    2| bcbcbcbc| 0.58| 0.58| 0.58|\n|    2| bcbcbcbc|-8.24|-8.24|-8.24|\n|    2| bcbcbcbc|-0.45|-0.45|-0.45|\n|    2| bcbcbcbc| 1.03| 1.03| 1.03|\n|    2|aUniqueID|-0.05|-0.05|-0.05|\n|    2| qqqqqqqq|-0.44|-0.44|-0.44|\n+-----+---------+-----+-----+-----+\nonly showing top 20 rows\n\n"
                }
            ], 
            "source": "df.show()"
        }, 
        {
            "execution_count": 5, 
            "cell_type": "code", 
            "metadata": {}, 
            "outputs": [
                {
                    "output_type": "stream", 
                    "name": "stdout", 
                    "text": "Collecting pixiedust\n\u001b[?25l  Downloading https://files.pythonhosted.org/packages/7c/01/d2084c07fdc05aafeaecff74f5888280c55193cd16c3572bbcee12bbc008/pixiedust-1.1.15.tar.gz (197kB)\n\u001b[K    100% |################################| 204kB 2.7MB/s eta 0:00:01\n\u001b[?25hCollecting mpld3 (from pixiedust)\n\u001b[?25l  Downloading https://files.pythonhosted.org/packages/91/95/a52d3a83d0a29ba0d6898f6727e9858fe7a43f6c2ce81a5fe7e05f0f4912/mpld3-0.3.tar.gz (788kB)\n\u001b[K    100% |################################| 798kB 3.4MB/s eta 0:00:01\n\u001b[?25hCollecting lxml (from pixiedust)\n\u001b[?25l  Downloading https://files.pythonhosted.org/packages/5d/c9/39689d56ccb58e8212ca3c9ef68246bb481040cbd4d602295488ed13019b/lxml-4.3.3-cp35-cp35m-manylinux1_x86_64.whl (5.6MB)\n\u001b[K    100% |################################| 5.6MB 1.8MB/s eta 0:00:01\n\u001b[?25hCollecting geojson (from pixiedust)\n  Downloading https://files.pythonhosted.org/packages/f1/34/bc3a65faabce27a7faa755ab08d811207a4fc438f77ef09c229fc022d778/geojson-2.4.1-py2.py3-none-any.whl\nCollecting astunparse (from pixiedust)\n  Downloading https://files.pythonhosted.org/packages/2e/37/5dd0dd89b87bb5f0f32a7e775458412c52d78f230ab8d0c65df6aabc4479/astunparse-1.6.2-py2.py3-none-any.whl\nCollecting markdown (from pixiedust)\n\u001b[?25l  Downloading https://files.pythonhosted.org/packages/f5/e4/d8c18f2555add57ff21bf25af36d827145896a07607486cc79a2aea641af/Markdown-3.1-py2.py3-none-any.whl (87kB)\n\u001b[K    100% |################################| 92kB 3.4MB/s eta 0:00:01\n\u001b[?25hCollecting colour (from pixiedust)\n  Downloading https://files.pythonhosted.org/packages/74/46/e81907704ab203206769dee1385dc77e1407576ff8f50a0681d0a6b541be/colour-0.1.5-py2.py3-none-any.whl\nCollecting requests (from pixiedust)\n\u001b[?25l  Downloading https://files.pythonhosted.org/packages/7d/e3/20f3d364d6c8e5d2353c72a67778eb189176f08e873c9900e10c0287b84b/requests-2.21.0-py2.py3-none-any.whl (57kB)\n\u001b[K    100% |################################| 61kB 2.1MB/s eta 0:00:01\n\u001b[?25hCollecting six<2.0,>=1.6.1 (from astunparse->pixiedust)\n  Using cached https://files.pythonhosted.org/packages/73/fb/00a976f728d0d1fecfe898238ce23f502a721c0ac0ecfedb80e0d88c64e9/six-1.12.0-py2.py3-none-any.whl\nCollecting wheel<1.0,>=0.23.0 (from astunparse->pixiedust)\n  Downloading https://files.pythonhosted.org/packages/96/ba/a4702cbb6a3a485239fbe9525443446203f00771af9ac000fa3ef2788201/wheel-0.33.1-py2.py3-none-any.whl\nCollecting setuptools>=36 (from markdown->pixiedust)\n\u001b[?25l  Downloading https://files.pythonhosted.org/packages/ec/51/f45cea425fd5cb0b0380f5b0f048ebc1da5b417e48d304838c02d6288a1e/setuptools-41.0.1-py2.py3-none-any.whl (575kB)\n\u001b[K    100% |################################| 583kB 4.0MB/s eta 0:00:01\n\u001b[?25hCollecting urllib3<1.25,>=1.21.1 (from requests->pixiedust)\n\u001b[?25l  Downloading https://files.pythonhosted.org/packages/df/1c/59cca3abf96f991f2ec3131a4ffe72ae3d9ea1f5894abe8a9c5e3c77cfee/urllib3-1.24.2-py2.py3-none-any.whl (131kB)\n\u001b[K    100% |################################| 133kB 4.1MB/s eta 0:00:01\n\u001b[?25hCollecting chardet<3.1.0,>=3.0.2 (from requests->pixiedust)\n\u001b[?25l  Downloading https://files.pythonhosted.org/packages/bc/a9/01ffebfb562e4274b6487b4bb1ddec7ca55ec7510b22e4c51f14098443b8/chardet-3.0.4-py2.py3-none-any.whl (133kB)\n\u001b[K    100% |################################| 143kB 3.5MB/s eta 0:00:01\n\u001b[?25hCollecting certifi>=2017.4.17 (from requests->pixiedust)\n\u001b[?25l  Downloading https://files.pythonhosted.org/packages/60/75/f692a584e85b7eaba0e03827b3d51f45f571c2e793dd731e598828d380aa/certifi-2019.3.9-py2.py3-none-any.whl (158kB)\n\u001b[K    100% |################################| 163kB 3.2MB/s eta 0:00:01\n\u001b[?25hCollecting idna<2.9,>=2.5 (from requests->pixiedust)\n\u001b[?25l  Downloading https://files.pythonhosted.org/packages/14/2c/cd551d81dbe15200be1cf41cd03869a46fe7226e7450af7a6545bfc474c9/idna-2.8-py2.py3-none-any.whl (58kB)\n\u001b[K    100% |################################| 61kB 2.2MB/s eta 0:00:01\n\u001b[?25hBuilding wheels for collected packages: pixiedust, mpld3\n  Running setup.py bdist_wheel for pixiedust ... \u001b[?25ldone\n\u001b[?25h  Stored in directory: /home/spark/shared/.cache/pip/wheels/ee/53/a8/7a2ed392a416ec3eaa4eef4f49c2e9c6c9587c8e3cec9ec3a6\n  Running setup.py bdist_wheel for mpld3 ... \u001b[?25ldone\n\u001b[?25h  Stored in directory: /home/spark/shared/.cache/pip/wheels/c0/47/fb/8a64f89aecfe0059830479308ad42d62e898a3e3cefdf6ba28\nSuccessfully built pixiedust mpld3\n\u001b[31mpyspark 2.3.0 requires py4j==0.10.6, which is not installed.\u001b[0m\n\u001b[31mtensorflow 1.3.0 requires tensorflow-tensorboard<0.2.0,>=0.1.0, which is not installed.\u001b[0m\nInstalling collected packages: mpld3, lxml, geojson, six, wheel, astunparse, setuptools, markdown, colour, urllib3, chardet, certifi, idna, requests, pixiedust\nSuccessfully installed astunparse-1.6.2 certifi-2019.3.9 chardet-3.0.4 colour-0.1.5 geojson-2.4.1 idna-2.8 lxml-4.3.3 markdown-3.1 mpld3-0.3 pixiedust-1.1.15 requests-2.21.0 setuptools-41.0.1 six-1.12.0 urllib3-1.24.2 wheel-0.33.1\n\u001b[33mTarget directory /home/spark/shared/user-libs/python3/six.py already exists. Specify --upgrade to force replacement.\u001b[0m\n\u001b[33mTarget directory /home/spark/shared/user-libs/python3/__pycache__ already exists. Specify --upgrade to force replacement.\u001b[0m\n\u001b[33mTarget directory /home/spark/shared/user-libs/python3/six-1.12.0.dist-info already exists. Specify --upgrade to force replacement.\u001b[0m\n\u001b[33mTarget directory /home/spark/shared/user-libs/python3/bin already exists. Specify --upgrade to force replacement.\u001b[0m\n"
                }
            ], 
            "source": "!pip install pixiedust"
        }, 
        {
            "execution_count": 6, 
            "cell_type": "code", 
            "metadata": {
                "pixiedust": {
                    "displayParams": {
                        "rowCount": "1000", 
                        "handlerId": "barChart", 
                        "valueFields": "X,Y,Z", 
                        "orientation": "horizontal", 
                        "charttype": "subplots", 
                        "keyFields": "CLASS", 
                        "sortby": "Keys DESC"
                    }
                }
            }, 
            "outputs": [
                {
                    "output_type": "display_data", 
                    "data": {
                        "text/html": "<style type=\"text/css\">.pd_warning{display:none;}</style><div class=\"pd_warning\"><em>Hey, there's something awesome here! To see it, open this notebook outside GitHub, in a viewer like Jupyter</em></div><img style=\"max-width:initial !important\" src=\"data:image/png;base64,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\" class=\"pd_save is-viewer-good\">", 
                        "text/plain": "<IPython.core.display.HTML object>"
                    }, 
                    "metadata": {}
                }
            ], 
            "source": "import pixiedust\ndisplay(df)"
        }, 
        {
            "execution_count": 7, 
            "cell_type": "code", 
            "metadata": {}, 
            "outputs": [], 
            "source": "df.createOrReplaceTempView(\"df\")"
        }, 
        {
            "source": "We\u2019ll use Apache SystemML to implement Discrete Fourier Transformation. This way all computation continues to happen on the Apache Spark cluster for advanced scalability and performance.", 
            "cell_type": "markdown", 
            "metadata": {}
        }, 
        {
            "execution_count": 8, 
            "cell_type": "code", 
            "metadata": {}, 
            "outputs": [], 
            "source": "from systemml import MLContext, dml\nml = MLContext(spark)"
        }, 
        {
            "source": "As you\u2019ve learned from the lecture, implementing Discrete Fourier Transformation in a linear algebra programming language is simple. Apache SystemML DML is such a language and as you can see the implementation is straightforward and doesn\u2019t differ too much from the mathematical definition (Just note that the sum operator has been swapped with a vector dot product using the %*% syntax borrowed from R\n):\n\n<img style=\"float: left;\" src=\"https://wikimedia.org/api/rest_v1/media/math/render/svg/1af0a78dc50bbf118ab6bd4c4dcc3c4ff8502223\">\n\n", 
            "cell_type": "markdown", 
            "metadata": {}
        }, 
        {
            "execution_count": 9, 
            "cell_type": "code", 
            "metadata": {}, 
            "outputs": [], 
            "source": "dml_script = '''\nPI = 3.141592654\nN = nrow(signal)\n\nn = seq(0, N-1, 1)\nk = seq(0, N-1, 1)\n\nM = (n %*% t(k))*(2*PI/N)\n\nXa = cos(M) %*% signal\nXb = sin(M) %*% signal\n\nDFT = cbind(Xa, Xb)\n'''"
        }, 
        {
            "source": "Now it\u2019s time to create a function which takes a single row Apache Spark data frame as argument (the one containing the accelerometer measurement time series for one axis) and returns the Fourier transformation of it. In addition, we are adding an index column for later joining all axis together and renaming the columns to appropriate names. The result of this function is an Apache Spark DataFrame containing the Fourier Transformation of its input in two columns. \n", 
            "cell_type": "markdown", 
            "metadata": {}
        }, 
        {
            "execution_count": 10, 
            "cell_type": "code", 
            "metadata": {}, 
            "outputs": [], 
            "source": "from pyspark.sql.functions import monotonically_increasing_id\n\ndef dft_systemml(signal,name):\n    prog = dml(dml_script).input('signal', signal).output('DFT')\n    \n    return (\n\n    #execute the script inside the SystemML engine running on top of Apache Spark\n    ml.execute(prog) \n     \n         #read result from SystemML execution back as SystemML Matrix\n        .get('DFT') \n     \n         #convert SystemML Matrix to ApacheSpark DataFrame \n        .toDF() \n     \n         #rename default column names\n        .selectExpr('C1 as %sa' % (name), 'C2 as %sb' % (name)) \n     \n         #add unique ID per row for later joining\n        .withColumn(\"id\", monotonically_increasing_id())\n    )\n        \n\n\n"
        }, 
        {
            "source": "Now it\u2019s time to create DataFrames containing for each accelerometer sensor axis and one for each class. This means you\u2019ll get 6 DataFrames. Please implement this using the relational API of DataFrames or SparkSQL.\n", 
            "cell_type": "markdown", 
            "metadata": {}
        }, 
        {
            "execution_count": 52, 
            "cell_type": "code", 
            "metadata": {}, 
            "outputs": [], 
            "source": "x0 = df.select('CLASS', 'X').filter(df.CLASS == 0)###YOUR_CODE_GOES_HERE### => Please create a DataFrame containing only measurements of class 0 from the x axis\ny0 = df.select('CLASS', 'Y').filter(df.CLASS == 0)###YOUR_CODE_GOES_HERE### => Please create a DataFrame containing only measurements of class 0 from the y axis\nz0 = df.select('CLASS', 'Z').filter(df.CLASS == 0)###YOUR_CODE_GOES_HERE### => Please create a DataFrame containing only measurements of class 0 from the z axis\nx1 = df.select('CLASS', 'X').filter(df.CLASS == 1)###YOUR_CODE_GOES_HERE### => Please create a DataFrame containing only measurements of class 1 from the x axis\ny1 = df.select('CLASS', 'Y').filter(df.CLASS == 1)###YOUR_CODE_GOES_HERE### => Please create a DataFrame containing only measurements of class 1 from the y axis\nz1 = df.select('CLASS', 'Z').filter(df.CLASS == 1)###YOUR_CODE_GOES_HERE### => Please create a DataFrame containing only measurements of class 1 from the z axis"
        }, 
        {
            "source": "Since we\u2019ve created this cool DFT function before, we can just call it for each of the 6 DataFrames now. And since the result of this function call is a DataFrame again we can use the pyspark best practice in simply calling methods on it sequentially. So what we are doing is the following:\n\n- Calling DFT for each class and accelerometer sensor axis.\n- Joining them together on the ID column. \n- Re-adding a column containing the class index.\n- Stacking both Dataframes for each classes together\n\n", 
            "cell_type": "markdown", 
            "metadata": {}
        }, 
        {
            "execution_count": 53, 
            "cell_type": "code", 
            "metadata": {}, 
            "outputs": [
                {
                    "output_type": "stream", 
                    "name": "stdout", 
                    "text": "SystemML Statistics:\nTotal execution time:\t\t0.013 sec.\nNumber of executed Spark inst:\t0.\n\n\nSystemML Statistics:\nTotal execution time:\t\t0.000 sec.\nNumber of executed Spark inst:\t0.\n\n\nSystemML Statistics:\nTotal execution time:\t\t0.000 sec.\nNumber of executed Spark inst:\t0.\n\n\nSystemML Statistics:\nTotal execution time:\t\t0.772 sec.\nNumber of executed Spark inst:\t0.\n\n\nSystemML Statistics:\nTotal execution time:\t\t0.113 sec.\nNumber of executed Spark inst:\t0.\n\n\nSystemML Statistics:\nTotal execution time:\t\t0.106 sec.\nNumber of executed Spark inst:\t0.\n\n\n+----------+--------------------+--------------------+--------------------+--------------------+--------------------+--------------------+-----+\n|        id|                  xa|                  xb|                  ya|                  yb|                  za|                  zb|class|\n+----------+--------------------+--------------------+--------------------+--------------------+--------------------+--------------------+-----+\n|8589934592|                 0.0|                 0.0|                 0.0|                 0.0|                 0.0|                 0.0|    0|\n|         0|                 0.0|                 0.0|                 0.0|                 0.0|                 0.0|                 0.0|    0|\n|8589934596|                 0.0|                 0.0|                 0.0|                 0.0|                 0.0|                 0.0|    0|\n|8589934598|                 0.0|                 0.0|                 0.0|                 0.0|                 0.0|                 0.0|    0|\n|8589934593|                 0.0|                 0.0|                 0.0|                 0.0|                 0.0|                 0.0|    0|\n|         6|                 0.0|                 0.0|                 0.0|                 0.0|                 0.0|                 0.0|    0|\n|         5|                 0.0|                 0.0|                 0.0|                 0.0|                 0.0|                 0.0|    0|\n|         1|                 0.0|                 0.0|                 0.0|                 0.0|                 0.0|                 0.0|    0|\n|         3|                 0.0|                 0.0|                 0.0|                 0.0|                 0.0|                 0.0|    0|\n|8589934594|                 0.0|                 0.0|                 0.0|                 0.0|                 0.0|                 0.0|    0|\n|8589934595|                 0.0|                 0.0|                 0.0|                 0.0|                 0.0|                 0.0|    0|\n|         2|                 0.0|                 0.0|                 0.0|                 0.0|                 0.0|                 0.0|    0|\n|         4|                 0.0|                 0.0|                 0.0|                 0.0|                 0.0|                 0.0|    0|\n|8589934597|                 0.0|                 0.0|                 0.0|                 0.0|                 0.0|                 0.0|    0|\n|        26|1.509890035222838...|0.007432298669951747|1.509890035222838...|0.007432298669951747|1.509890035222838...|0.007432298669951747|    1|\n|        29|-1.33882353425818...| 0.02589077158423112|-1.33882353425818...| 0.02589077158423112|-1.33882353425818...| 0.02589077158423112|    1|\n|8589934592|1.501486490695924...| 0.02589077121123453|1.501486490695924...| 0.02589077121123453|1.501486490695924...| 0.02589077121123453|    1|\n|        19|-9.40059881604504...|-0.08486126908675795|-9.40059881604504...|-0.08486126908675795|-9.40059881604504...|-0.08486126908675795|    1|\n|        54|3.194476905221677...| 0.02941472472264519|3.194476905221677...| 0.02941472472264519|3.194476905221677...| 0.02941472472264519|    1|\n|         0|1.139261893157161...|-0.00305531695825...|1.139261893157161...|-0.00305531695825...|1.139261893157161...|-0.00305531695825...|    1|\n+----------+--------------------+--------------------+--------------------+--------------------+--------------------+--------------------+-----+\nonly showing top 20 rows\n\n"
                }
            ], 
            "source": "from pyspark.sql.functions import lit\n\ndf_class_0 = dft_systemml(x0,'x') \\\n    .join(dft_systemml(y0,'y'), on=['id'], how='inner') \\\n    .join(dft_systemml(z0,'z'), on=['id'], how='inner') \\\n    .withColumn('class', lit(0))\n    \ndf_class_1 = dft_systemml(x1,'x') \\\n    .join(dft_systemml(y1,'y'), on=['id'], how='inner') \\\n    .join(dft_systemml(z1,'z'), on=['id'], how='inner') \\\n    .withColumn('class', lit(1))\n\ndf_dft = df_class_0.union(df_class_1)\n\ndf_dft.show()"
        }, 
        {
            "source": "Please create a VectorAssembler which consumes the newly created DFT columns and produces a column \u201cfeatures\u201d\n", 
            "cell_type": "markdown", 
            "metadata": {}
        }, 
        {
            "execution_count": 54, 
            "cell_type": "code", 
            "metadata": {}, 
            "outputs": [], 
            "source": "from pyspark.ml.feature import VectorAssembler"
        }, 
        {
            "execution_count": 61, 
            "cell_type": "code", 
            "metadata": {}, 
            "outputs": [], 
            "source": "vectorAssembler = VectorAssembler(\n    inputCols=[\"id\", \"xa\", \"xb\", \"ya\", \"yb\", \"za\", \"class\"],\n    outputCol=\"features\")"
        }, 
        {
            "source": "Please insatiate a classifier from the SparkML package and assign it to the classifier variable. Make sure to set the \u201cclass\u201d column as target.\n", 
            "cell_type": "markdown", 
            "metadata": {}
        }, 
        {
            "execution_count": 62, 
            "cell_type": "code", 
            "metadata": {}, 
            "outputs": [], 
            "source": "from pyspark.ml.classification import GBTClassifier"
        }, 
        {
            "execution_count": 66, 
            "cell_type": "code", 
            "metadata": {}, 
            "outputs": [], 
            "source": "classifier = GBTClassifier(labelCol=\"class\")"
        }, 
        {
            "source": "Let\u2019s train and evaluate\u2026\n", 
            "cell_type": "markdown", 
            "metadata": {}
        }, 
        {
            "execution_count": 67, 
            "cell_type": "code", 
            "metadata": {}, 
            "outputs": [], 
            "source": "from pyspark.ml import Pipeline\npipeline = Pipeline(stages=[vectorAssembler, classifier])"
        }, 
        {
            "execution_count": 68, 
            "cell_type": "code", 
            "metadata": {}, 
            "outputs": [], 
            "source": "model = pipeline.fit(df_dft)"
        }, 
        {
            "execution_count": 69, 
            "cell_type": "code", 
            "metadata": {}, 
            "outputs": [], 
            "source": "prediction = model.transform(df_dft)"
        }, 
        {
            "execution_count": 70, 
            "cell_type": "code", 
            "metadata": {}, 
            "outputs": [
                {
                    "output_type": "stream", 
                    "name": "stdout", 
                    "text": "+----------+--------------------+--------------------+--------------------+--------------------+--------------------+--------------------+-----+--------------------+--------------------+--------------------+----------+\n|        id|                  xa|                  xb|                  ya|                  yb|                  za|                  zb|class|            features|       rawPrediction|         probability|prediction|\n+----------+--------------------+--------------------+--------------------+--------------------+--------------------+--------------------+-----+--------------------+--------------------+--------------------+----------+\n|8589934592|                 0.0|                 0.0|                 0.0|                 0.0|                 0.0|                 0.0|    0|(7,[0],[8.5899345...|[1.54350200272498...|[0.95635347857270...|       0.0|\n|         0|                 0.0|                 0.0|                 0.0|                 0.0|                 0.0|                 0.0|    0|           (7,[],[])|[1.54350200272498...|[0.95635347857270...|       0.0|\n|8589934596|                 0.0|                 0.0|                 0.0|                 0.0|                 0.0|                 0.0|    0|(7,[0],[8.5899345...|[1.54350200272498...|[0.95635347857270...|       0.0|\n|8589934598|                 0.0|                 0.0|                 0.0|                 0.0|                 0.0|                 0.0|    0|(7,[0],[8.5899345...|[1.54350200272498...|[0.95635347857270...|       0.0|\n|8589934593|                 0.0|                 0.0|                 0.0|                 0.0|                 0.0|                 0.0|    0|(7,[0],[8.5899345...|[1.54350200272498...|[0.95635347857270...|       0.0|\n|         6|                 0.0|                 0.0|                 0.0|                 0.0|                 0.0|                 0.0|    0|       (7,[0],[6.0])|[1.54350200272498...|[0.95635347857270...|       0.0|\n|         5|                 0.0|                 0.0|                 0.0|                 0.0|                 0.0|                 0.0|    0|       (7,[0],[5.0])|[1.54350200272498...|[0.95635347857270...|       0.0|\n|         1|                 0.0|                 0.0|                 0.0|                 0.0|                 0.0|                 0.0|    0|       (7,[0],[1.0])|[1.54350200272498...|[0.95635347857270...|       0.0|\n|         3|                 0.0|                 0.0|                 0.0|                 0.0|                 0.0|                 0.0|    0|       (7,[0],[3.0])|[1.54350200272498...|[0.95635347857270...|       0.0|\n|8589934594|                 0.0|                 0.0|                 0.0|                 0.0|                 0.0|                 0.0|    0|(7,[0],[8.5899345...|[1.54350200272498...|[0.95635347857270...|       0.0|\n|8589934595|                 0.0|                 0.0|                 0.0|                 0.0|                 0.0|                 0.0|    0|(7,[0],[8.5899345...|[1.54350200272498...|[0.95635347857270...|       0.0|\n|         2|                 0.0|                 0.0|                 0.0|                 0.0|                 0.0|                 0.0|    0|       (7,[0],[2.0])|[1.54350200272498...|[0.95635347857270...|       0.0|\n|         4|                 0.0|                 0.0|                 0.0|                 0.0|                 0.0|                 0.0|    0|       (7,[0],[4.0])|[1.54350200272498...|[0.95635347857270...|       0.0|\n|8589934597|                 0.0|                 0.0|                 0.0|                 0.0|                 0.0|                 0.0|    0|(7,[0],[8.5899345...|[1.54350200272498...|[0.95635347857270...|       0.0|\n|        26|1.509890035222838...|0.007432298669951747|1.509890035222838...|0.007432298669951747|1.509890035222838...|0.007432298669951747|    1|[26.0,1.509890035...|[-1.5435020027249...|[0.04364652142729...|       1.0|\n|        29|-1.33882353425818...| 0.02589077158423112|-1.33882353425818...| 0.02589077158423112|-1.33882353425818...| 0.02589077158423112|    1|[29.0,-1.33882353...|[-1.5435020027249...|[0.04364652142729...|       1.0|\n|8589934592|1.501486490695924...| 0.02589077121123453|1.501486490695924...| 0.02589077121123453|1.501486490695924...| 0.02589077121123453|    1|[8.589934592E9,1....|[-1.5435020027249...|[0.04364652142729...|       1.0|\n|        19|-9.40059881604504...|-0.08486126908675795|-9.40059881604504...|-0.08486126908675795|-9.40059881604504...|-0.08486126908675795|    1|[19.0,-9.40059881...|[-1.5435020027249...|[0.04364652142729...|       1.0|\n|        54|3.194476905221677...| 0.02941472472264519|3.194476905221677...| 0.02941472472264519|3.194476905221677...| 0.02941472472264519|    1|[54.0,3.194476905...|[-1.5435020027249...|[0.04364652142729...|       1.0|\n|         0|1.139261893157161...|-0.00305531695825...|1.139261893157161...|-0.00305531695825...|1.139261893157161...|-0.00305531695825...|    1|[0.0,1.1392618931...|[-1.5435020027249...|[0.04364652142729...|       1.0|\n+----------+--------------------+--------------------+--------------------+--------------------+--------------------+--------------------+-----+--------------------+--------------------+--------------------+----------+\nonly showing top 20 rows\n\n"
                }
            ], 
            "source": "prediction.show()"
        }, 
        {
            "execution_count": 71, 
            "cell_type": "code", 
            "metadata": {}, 
            "outputs": [
                {
                    "execution_count": 71, 
                    "metadata": {}, 
                    "data": {
                        "text/plain": "1.0"
                    }, 
                    "output_type": "execute_result"
                }
            ], 
            "source": "from pyspark.ml.evaluation import MulticlassClassificationEvaluator\nbinEval = MulticlassClassificationEvaluator().setMetricName(\"accuracy\") .setPredictionCol(\"prediction\").setLabelCol(\"class\")\n    \nbinEval.evaluate(prediction) "
        }, 
        {
            "source": "If you are happy with the result (I\u2019m happy with > 0.8) please submit your solution to the grader by executing the following cells, please don\u2019t forget to obtain an assignment submission token (secret) from the Courera\u2019s graders web page and paste it to the \u201csecret\u201d variable below, including your email address you\u2019ve used for Coursera. \n", 
            "cell_type": "markdown", 
            "metadata": {}
        }, 
        {
            "execution_count": 72, 
            "cell_type": "code", 
            "metadata": {}, 
            "outputs": [], 
            "source": "!rm -Rf a2_m4.json"
        }, 
        {
            "execution_count": 73, 
            "cell_type": "code", 
            "metadata": {}, 
            "outputs": [], 
            "source": "prediction = prediction.repartition(1)\nprediction.write.json('a2_m4.json')"
        }, 
        {
            "execution_count": 74, 
            "cell_type": "code", 
            "metadata": {}, 
            "outputs": [
                {
                    "output_type": "stream", 
                    "name": "stdout", 
                    "text": "--2019-04-25 20:11:34--  http://wget/\nResolving wget (wget)... failed: Name or service not known.\nwget: unable to resolve host address 'wget'\n--2019-04-25 20:11:34--  https://raw.githubusercontent.com/IBM/coursera/master/rklib.py\nResolving raw.githubusercontent.com (raw.githubusercontent.com)... 151.101.48.133\nConnecting to raw.githubusercontent.com (raw.githubusercontent.com)|151.101.48.133|:443... connected.\nHTTP request sent, awaiting response... 200 OK\nLength: 2540 (2.5K) [text/plain]\nSaving to: 'rklib.py'\n\nrklib.py            100%[===================>]   2.48K  --.-KB/s    in 0s      \n\n2019-04-25 20:11:34 (22.9 MB/s) - 'rklib.py' saved [2540/2540]\n\nFINISHED --2019-04-25 20:11:34--\nTotal wall clock time: 0.2s\nDownloaded: 1 files, 2.5K in 0s (22.9 MB/s)\n"
                }
            ], 
            "source": "!rm -f rklib.py\n!wget wget https://raw.githubusercontent.com/IBM/coursera/master/rklib.py"
        }, 
        {
            "execution_count": 75, 
            "cell_type": "code", 
            "metadata": {}, 
            "outputs": [], 
            "source": "from rklib import zipit\nzipit('a2_m4.json.zip','a2_m4.json')"
        }, 
        {
            "execution_count": 76, 
            "cell_type": "code", 
            "metadata": {}, 
            "outputs": [], 
            "source": "!base64 a2_m4.json.zip > a2_m4.json.zip.base64"
        }, 
        {
            "execution_count": 83, 
            "cell_type": "code", 
            "metadata": {}, 
            "outputs": [
                {
                    "output_type": "stream", 
                    "name": "stdout", 
                    "text": "Submission successful, please check on the coursera grader page for the status\n-------------------------\n{\"elements\":[{\"itemId\":\"B8wXV\",\"id\":\"f_F-qCtuEei_fRLwaVDk3g~B8wXV~c_-lqWeWEemHUxIMG5X3iA\",\"courseId\":\"f_F-qCtuEei_fRLwaVDk3g\"}],\"paging\":{},\"linked\":{}}\n-------------------------\n"
                }
            ], 
            "source": "from rklib import submit\nkey = \"-fBiYHYDEeiR4QqiFhAvkA\"\npart = \"IjtJk\"\nemail = \"nicholas.m.uhorchak.mil@mail.mil\"\nsubmission_token = \"RXUoKnsfXmyCTxUZ\"\n\nwith open('a2_m4.json.zip.base64', 'r') as myfile:\n    data=myfile.read()\nsubmit(email, submission_token, key, part, [part], data)"
        }
    ], 
    "metadata": {
        "kernelspec": {
            "display_name": "Python 3.5 with Spark", 
            "name": "python3", 
            "language": "python3"
        }, 
        "language_info": {
            "mimetype": "text/x-python", 
            "nbconvert_exporter": "python", 
            "version": "3.5.4", 
            "name": "python", 
            "file_extension": ".py", 
            "pygments_lexer": "ipython3", 
            "codemirror_mode": {
                "version": 3, 
                "name": "ipython"
            }
        }
    }, 
    "nbformat": 4
}