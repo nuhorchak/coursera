{
    "nbformat_minor": 1, 
    "cells": [
        {
            "source": "# Exercise 2\n## Part 1\nNow let's calculate covariance and correlation by ourselves using ApacheSpark\n\n1st we crate two random RDD\u2019s, which shouldn't correlate at all.\n", 
            "cell_type": "markdown", 
            "metadata": {}
        }, 
        {
            "execution_count": 2, 
            "cell_type": "code", 
            "metadata": {}, 
            "outputs": [], 
            "source": "import random\nrddX = sc.parallelize(random.sample(range(100),100))\nrddY = sc.parallelize(random.sample(range(100),100))"
        }, 
        {
            "source": "Now we calculate the mean, note that we explicitly cast the denominator to float in order to obtain a float instead of int", 
            "cell_type": "markdown", 
            "metadata": {}
        }, 
        {
            "execution_count": 3, 
            "cell_type": "code", 
            "metadata": {}, 
            "outputs": [
                {
                    "output_type": "stream", 
                    "name": "stdout", 
                    "text": "49.5\n49.5\n"
                }
            ], 
            "source": "meanX = rddX.sum()/float(rddX.count())\nmeanY = rddY.sum()/float(rddY.count())\nprint (meanX)\nprint (meanY)"
        }, 
        {
            "source": "Now we calculate the covariance", 
            "cell_type": "markdown", 
            "metadata": {}
        }, 
        {
            "execution_count": 4, 
            "cell_type": "code", 
            "metadata": {}, 
            "outputs": [
                {
                    "execution_count": 4, 
                    "metadata": {}, 
                    "data": {
                        "text/plain": "-1.06"
                    }, 
                    "output_type": "execute_result"
                }
            ], 
            "source": "rddXY = rddX.zip(rddY)\ncovXY = rddXY.map(lambda x_y : (x_y[0]-meanX)*(x_y[1]-meanY)).sum()/rddXY.count()\ncovXY"
        }, 
        {
            "source": "Covariance is not a normalized measure. Therefore we use it to calculate correlation. But before that we need to calculate the indivicual standard deviations first", 
            "cell_type": "markdown", 
            "metadata": {}
        }, 
        {
            "execution_count": 5, 
            "cell_type": "code", 
            "metadata": {}, 
            "outputs": [
                {
                    "output_type": "stream", 
                    "name": "stdout", 
                    "text": "28.86607004772212\n28.86607004772212\n"
                }
            ], 
            "source": "from math import sqrt\nn = rddXY.count()\nsdX = sqrt(rddX.map(lambda x : pow(x-meanX,2)).sum()/n)\nsdY = sqrt(rddY.map(lambda x : pow(x-meanY,2)).sum()/n)\nprint (sdX)\nprint (sdY)"
        }, 
        {
            "source": "Now we calculate the correlation", 
            "cell_type": "markdown", 
            "metadata": {}
        }, 
        {
            "execution_count": 9, 
            "cell_type": "code", 
            "metadata": {}, 
            "outputs": [
                {
                    "execution_count": 9, 
                    "metadata": {}, 
                    "data": {
                        "text/plain": "-0.06115811581158116"
                    }, 
                    "output_type": "execute_result"
                }
            ], 
            "source": "corrXY = covXY / (sdX * sdY)\ncorrXY"
        }, 
        {
            "source": "## Part 2\nNo we want to create a correlation matrix out of the four RDDs used in the lecture", 
            "cell_type": "markdown", 
            "metadata": {}
        }, 
        {
            "execution_count": 6, 
            "cell_type": "code", 
            "metadata": {}, 
            "outputs": [
                {
                    "output_type": "stream", 
                    "name": "stdout", 
                    "text": "[[ 1.         1.        -1.         0.0760276]\n [ 1.         1.        -1.         0.0760276]\n [-1.        -1.         1.        -0.0760276]\n [ 0.0760276  0.0760276 -0.0760276  1.       ]]\n"
                }
            ], 
            "source": "from pyspark.mllib.stat import Statistics\nimport random\ncolumn1 = sc.parallelize(range(100))\ncolumn2 = sc.parallelize(range(100,200))\ncolumn3 = sc.parallelize(list(reversed(range(100))))\ncolumn4 = sc.parallelize(random.sample(range(100),100))\ndata = column1.zip(column2).zip(column3).zip(column4).map(lambda a_b_c_d : (a_b_c_d[0][0][0],a_b_c_d[0][0][1],a_b_c_d[0][1],a_b_c_d[1]) ).map(lambda a_b_c_d : [a_b_c_d[0],a_b_c_d[1],a_b_c_d[2],a_b_c_d[3]])\nprint(Statistics.corr(data))"
        }, 
        {
            "source": "Congratulations, you are done with Exercice 2", 
            "cell_type": "markdown", 
            "metadata": {
                "collapsed": true
            }
        }
    ], 
    "metadata": {
        "kernelspec": {
            "display_name": "Python 3.5 with Spark 2.1", 
            "name": "python3-spark21", 
            "language": "python"
        }, 
        "language_info": {
            "mimetype": "text/x-python", 
            "nbconvert_exporter": "python", 
            "version": "3.5.4", 
            "name": "python", 
            "file_extension": ".py", 
            "pygments_lexer": "ipython3", 
            "codemirror_mode": {
                "version": 3, 
                "name": "ipython"
            }
        }
    }, 
    "nbformat": 4
}